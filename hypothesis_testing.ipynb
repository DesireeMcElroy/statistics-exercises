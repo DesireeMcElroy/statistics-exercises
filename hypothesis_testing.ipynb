{
 "cells": [
  {
   "cell_type": "markdown",
   "metadata": {},
   "source": [
    "### Exercises"
   ]
  },
  {
   "cell_type": "markdown",
   "metadata": {},
   "source": [
    "For each of the following questions, formulate a null and alternative hypothesis (be as specific as you can be), then give an example of what a true positive, true negative, type I and type II errors would look like. Note that some of the questions are intentionally phrased in a vague way. It is your job to reword these as more precise questions that could be tested."
   ]
  },
  {
   "cell_type": "markdown",
   "metadata": {},
   "source": [
    " - Has the network latency gone up since we switched internet service providers?"
   ]
  },
  {
   "cell_type": "markdown",
   "metadata": {},
   "source": [
    "- $H_{0}$ = Network latency has no effect on switching internet service providers\n",
    "- $H_{a}$ = Network latency has gone up since switching internet service providers\n",
    "- true_pos = alpha > p value, we establish that internet service does impact latency\n",
    "- true_neg = alpha < p, we establish that internet service has no impact on latency\n",
    "- type1_error = we reject that internet service has no impact on latency but the truth is there is no impact\n",
    "- type2_error = we don't reject that internet service has no impact on latency but there is significant impact why?"
   ]
  },
  {
   "cell_type": "markdown",
   "metadata": {},
   "source": [
    "- Is the website redesign any good?"
   ]
  },
  {
   "cell_type": "markdown",
   "metadata": {},
   "source": [
    "- $H_{0}$ = The webside design has no impact on total revenue\n",
    "- $H_{a}$ = The website design has a correlation on total revenue\n",
    "- true_pos = alpha > p value, we establish website design does affect total revenue\n",
    "- true_neg = alpha < p, we establish that website design has no impact on revenue\n",
    "- type1_error = we reject that website design has no impact on revenue but the truth is there is no impact\n",
    "- type2_error = we don't reject that website design has no impact on revenue but there is significant impact, why?"
   ]
  },
  {
   "cell_type": "markdown",
   "metadata": {},
   "source": [
    "- Is our television ad driving more sales?"
   ]
  },
  {
   "cell_type": "markdown",
   "metadata": {},
   "source": [
    "- $H_{0}$ = Our television ad is not driving sales\n",
    "- $H_{a}$ = Our television ad is driving more sales\n",
    "- true_pos = reject null, the ad is driving more sales\n",
    "- true_neg = accept null, and there is no significance of our ad on sales\n",
    "- type1_error = we reject null, and say there is a significance of ad on sales and there is actually no significance\n",
    "- type2_error = we accept that television ad is not driving sales, but actually there is significant impact."
   ]
  },
  {
   "cell_type": "markdown",
   "metadata": {},
   "source": [
    "Using the Zillow database:    "
   ]
  },
  {
   "cell_type": "markdown",
   "metadata": {},
   "source": [
    "- Does square feet affect home value?"
   ]
  },
  {
   "cell_type": "markdown",
   "metadata": {},
   "source": [
    "- $H_{0}$ = calculatedfinishedsquarefeet has no impact on taxvaluedollarcnt\n",
    "- $H_{a}$ = calculatedfinishedsquarefeet has a significant impact on taxvaluedollarcnt\n",
    "- true_pos = reject $H_{0}$, calculatedfinishedsquarefeet has a significant impact on taxvaluedollarcnt\n",
    "- true_neg = accept $H_{0}$, calculatedfinishedsquarefeet has no impact on taxvaluedollarcnt\n",
    "- type1error = we reject $H_{0}$, we say calculatedfinishedsquarefeet has a significant impact on taxvaluedollarcnt, and the reality is calculatedfinishedsquarefeet has no impact on taxvaluedollarcnt\n",
    "- type2error = we accept calculatedfinishedsquarefeet has no impact on taxvaluedollarcnt, but actually calculatedfinishedsquarefeet has a significant impact on taxvaluedollarcnt"
   ]
  },
  {
   "cell_type": "markdown",
   "metadata": {},
   "source": [
    "- Do newer homes generally have a larger square footage?"
   ]
  },
  {
   "cell_type": "markdown",
   "metadata": {},
   "source": [
    "- $H_{0}$ = yearbuit has no impact on taxvaluedollarcnt\n",
    "- $H_{a}$ = yearbuilt has a significant impact on taxvaluedollarcnt\n",
    "- true_pos = we reject $H_{0}$, yearbuilt has a significant impact on taxvaluedollarcnt\n",
    "- true_neg = we accept $H_{0}$, yearbuilt has no effect on taxvaluedollarcnt\n",
    "- type1_error = we reject $H_{0}$, we say yearbuilt has a significant impact on taxvaluedollarcnt, but in reality it doesn't\n",
    "- type2_error = we don't reject $H_{0}$, we say yearbuit has no impact on taxvaluedollarcnt, but actually it does."
   ]
  },
  {
   "cell_type": "code",
   "execution_count": null,
   "metadata": {},
   "outputs": [],
   "source": []
  }
 ],
 "metadata": {
  "kernelspec": {
   "display_name": "Python 3",
   "language": "python",
   "name": "python3"
  },
  "language_info": {
   "codemirror_mode": {
    "name": "ipython",
    "version": 3
   },
   "file_extension": ".py",
   "mimetype": "text/x-python",
   "name": "python",
   "nbconvert_exporter": "python",
   "pygments_lexer": "ipython3",
   "version": "3.8.5"
  }
 },
 "nbformat": 4,
 "nbformat_minor": 4
}
